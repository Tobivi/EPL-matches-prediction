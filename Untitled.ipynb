{
 "cells": [
  {
   "cell_type": "code",
   "execution_count": 1,
   "id": "adcab202",
   "metadata": {},
   "outputs": [],
   "source": [
    "import pandas as pd\n",
    "import numpy as np"
   ]
  },
  {
   "cell_type": "code",
   "execution_count": 2,
   "id": "67973024",
   "metadata": {},
   "outputs": [],
   "source": [
    "data = pd.read_csv(\"E0.csv\")"
   ]
  },
  {
   "cell_type": "code",
   "execution_count": 4,
   "id": "f08cca80",
   "metadata": {},
   "outputs": [
    {
     "data": {
      "text/html": [
       "<div>\n",
       "<style scoped>\n",
       "    .dataframe tbody tr th:only-of-type {\n",
       "        vertical-align: middle;\n",
       "    }\n",
       "\n",
       "    .dataframe tbody tr th {\n",
       "        vertical-align: top;\n",
       "    }\n",
       "\n",
       "    .dataframe thead th {\n",
       "        text-align: right;\n",
       "    }\n",
       "</style>\n",
       "<table border=\"1\" class=\"dataframe\">\n",
       "  <thead>\n",
       "    <tr style=\"text-align: right;\">\n",
       "      <th></th>\n",
       "      <th>Div</th>\n",
       "      <th>Date</th>\n",
       "      <th>Time</th>\n",
       "      <th>HomeTeam</th>\n",
       "      <th>AwayTeam</th>\n",
       "      <th>FTHG</th>\n",
       "      <th>FTAG</th>\n",
       "      <th>FTR</th>\n",
       "      <th>HTHG</th>\n",
       "      <th>HTAG</th>\n",
       "      <th>...</th>\n",
       "      <th>AvgC&lt;2.5</th>\n",
       "      <th>AHCh</th>\n",
       "      <th>B365CAHH</th>\n",
       "      <th>B365CAHA</th>\n",
       "      <th>PCAHH</th>\n",
       "      <th>PCAHA</th>\n",
       "      <th>MaxCAHH</th>\n",
       "      <th>MaxCAHA</th>\n",
       "      <th>AvgCAHH</th>\n",
       "      <th>AvgCAHA</th>\n",
       "    </tr>\n",
       "  </thead>\n",
       "  <tbody>\n",
       "    <tr>\n",
       "      <th>0</th>\n",
       "      <td>E0</td>\n",
       "      <td>05/08/2022</td>\n",
       "      <td>20:00</td>\n",
       "      <td>Crystal Palace</td>\n",
       "      <td>Arsenal</td>\n",
       "      <td>0</td>\n",
       "      <td>2</td>\n",
       "      <td>A</td>\n",
       "      <td>0</td>\n",
       "      <td>1</td>\n",
       "      <td>...</td>\n",
       "      <td>1.76</td>\n",
       "      <td>0.50</td>\n",
       "      <td>2.09</td>\n",
       "      <td>1.84</td>\n",
       "      <td>2.04</td>\n",
       "      <td>1.88</td>\n",
       "      <td>2.09</td>\n",
       "      <td>1.88</td>\n",
       "      <td>2.03</td>\n",
       "      <td>1.85</td>\n",
       "    </tr>\n",
       "    <tr>\n",
       "      <th>1</th>\n",
       "      <td>E0</td>\n",
       "      <td>06/08/2022</td>\n",
       "      <td>12:30</td>\n",
       "      <td>Fulham</td>\n",
       "      <td>Liverpool</td>\n",
       "      <td>2</td>\n",
       "      <td>2</td>\n",
       "      <td>D</td>\n",
       "      <td>1</td>\n",
       "      <td>0</td>\n",
       "      <td>...</td>\n",
       "      <td>2.73</td>\n",
       "      <td>1.75</td>\n",
       "      <td>1.90</td>\n",
       "      <td>2.03</td>\n",
       "      <td>1.91</td>\n",
       "      <td>2.02</td>\n",
       "      <td>2.01</td>\n",
       "      <td>2.06</td>\n",
       "      <td>1.89</td>\n",
       "      <td>1.99</td>\n",
       "    </tr>\n",
       "    <tr>\n",
       "      <th>2</th>\n",
       "      <td>E0</td>\n",
       "      <td>06/08/2022</td>\n",
       "      <td>15:00</td>\n",
       "      <td>Bournemouth</td>\n",
       "      <td>Aston Villa</td>\n",
       "      <td>2</td>\n",
       "      <td>0</td>\n",
       "      <td>H</td>\n",
       "      <td>1</td>\n",
       "      <td>0</td>\n",
       "      <td>...</td>\n",
       "      <td>1.76</td>\n",
       "      <td>0.50</td>\n",
       "      <td>1.93</td>\n",
       "      <td>2.00</td>\n",
       "      <td>1.93</td>\n",
       "      <td>2.00</td>\n",
       "      <td>1.94</td>\n",
       "      <td>2.04</td>\n",
       "      <td>1.88</td>\n",
       "      <td>2.00</td>\n",
       "    </tr>\n",
       "    <tr>\n",
       "      <th>3</th>\n",
       "      <td>E0</td>\n",
       "      <td>06/08/2022</td>\n",
       "      <td>15:00</td>\n",
       "      <td>Leeds</td>\n",
       "      <td>Wolves</td>\n",
       "      <td>2</td>\n",
       "      <td>1</td>\n",
       "      <td>H</td>\n",
       "      <td>1</td>\n",
       "      <td>1</td>\n",
       "      <td>...</td>\n",
       "      <td>1.87</td>\n",
       "      <td>-0.25</td>\n",
       "      <td>2.08</td>\n",
       "      <td>1.85</td>\n",
       "      <td>2.10</td>\n",
       "      <td>1.84</td>\n",
       "      <td>2.14</td>\n",
       "      <td>1.87</td>\n",
       "      <td>2.08</td>\n",
       "      <td>1.81</td>\n",
       "    </tr>\n",
       "    <tr>\n",
       "      <th>4</th>\n",
       "      <td>E0</td>\n",
       "      <td>06/08/2022</td>\n",
       "      <td>15:00</td>\n",
       "      <td>Newcastle</td>\n",
       "      <td>Nott'm Forest</td>\n",
       "      <td>2</td>\n",
       "      <td>0</td>\n",
       "      <td>H</td>\n",
       "      <td>0</td>\n",
       "      <td>0</td>\n",
       "      <td>...</td>\n",
       "      <td>1.89</td>\n",
       "      <td>-1.00</td>\n",
       "      <td>1.97</td>\n",
       "      <td>1.96</td>\n",
       "      <td>1.99</td>\n",
       "      <td>1.93</td>\n",
       "      <td>2.19</td>\n",
       "      <td>1.97</td>\n",
       "      <td>2.03</td>\n",
       "      <td>1.86</td>\n",
       "    </tr>\n",
       "  </tbody>\n",
       "</table>\n",
       "<p>5 rows × 106 columns</p>\n",
       "</div>"
      ],
      "text/plain": [
       "  Div        Date   Time        HomeTeam       AwayTeam  FTHG  FTAG FTR  HTHG  \\\n",
       "0  E0  05/08/2022  20:00  Crystal Palace        Arsenal     0     2   A     0   \n",
       "1  E0  06/08/2022  12:30          Fulham      Liverpool     2     2   D     1   \n",
       "2  E0  06/08/2022  15:00     Bournemouth    Aston Villa     2     0   H     1   \n",
       "3  E0  06/08/2022  15:00           Leeds         Wolves     2     1   H     1   \n",
       "4  E0  06/08/2022  15:00       Newcastle  Nott'm Forest     2     0   H     0   \n",
       "\n",
       "   HTAG  ... AvgC<2.5  AHCh  B365CAHH  B365CAHA  PCAHH  PCAHA  MaxCAHH  \\\n",
       "0     1  ...     1.76  0.50      2.09      1.84   2.04   1.88     2.09   \n",
       "1     0  ...     2.73  1.75      1.90      2.03   1.91   2.02     2.01   \n",
       "2     0  ...     1.76  0.50      1.93      2.00   1.93   2.00     1.94   \n",
       "3     1  ...     1.87 -0.25      2.08      1.85   2.10   1.84     2.14   \n",
       "4     0  ...     1.89 -1.00      1.97      1.96   1.99   1.93     2.19   \n",
       "\n",
       "   MaxCAHA  AvgCAHH  AvgCAHA  \n",
       "0     1.88     2.03     1.85  \n",
       "1     2.06     1.89     1.99  \n",
       "2     2.04     1.88     2.00  \n",
       "3     1.87     2.08     1.81  \n",
       "4     1.97     2.03     1.86  \n",
       "\n",
       "[5 rows x 106 columns]"
      ]
     },
     "execution_count": 4,
     "metadata": {},
     "output_type": "execute_result"
    }
   ],
   "source": [
    "data.head()"
   ]
  },
  {
   "cell_type": "code",
   "execution_count": 5,
   "id": "f95339e2",
   "metadata": {},
   "outputs": [
    {
     "name": "stdout",
     "output_type": "stream",
     "text": [
      "         HomeTeam       AwayTeam  HomeGoals  AwayGoals\n",
      "0  Crystal Palace        Arsenal          0          2\n",
      "1          Fulham      Liverpool          2          2\n",
      "2     Bournemouth    Aston Villa          2          0\n",
      "3           Leeds         Wolves          2          1\n",
      "4       Newcastle  Nott'm Forest          2          0\n"
     ]
    }
   ],
   "source": [
    "epl = data[['HomeTeam', 'AwayTeam','FTHG', 'FTAG']]\n",
    "epl = epl.rename(columns={'FTHG': 'HomeGoals', 'FTAG':'AwayGoals'})\n",
    "print(epl.head())"
   ]
  },
  {
   "cell_type": "code",
   "execution_count": 6,
   "id": "ca8654c8",
   "metadata": {},
   "outputs": [
    {
     "name": "stdout",
     "output_type": "stream",
     "text": [
      "HomeGoals    1.598174\n",
      "AwayGoals    1.141553\n",
      "dtype: float64\n"
     ]
    }
   ],
   "source": [
    "test = epl[-20:]\n",
    "epl = epl[:-20]\n",
    "print(epl[['HomeGoals', 'AwayGoals']].mean())"
   ]
  },
  {
   "cell_type": "code",
   "execution_count": 7,
   "id": "de053776",
   "metadata": {},
   "outputs": [
    {
     "data": {
      "text/plain": [
       "0.23078876992933062"
      ]
     },
     "execution_count": 7,
     "metadata": {},
     "output_type": "execute_result"
    }
   ],
   "source": [
    "from scipy.stats import skellam, poisson\n",
    "# probability of a draw\n",
    "skellam.pmf(0.0, epl.HomeGoals.mean(), epl.AwayGoals.mean())\n",
    "# probability of a win by one goal\n",
    "skellam.pmf(1.0, epl.HomeGoals.mean(), epl.AwayGoals.mean())"
   ]
  },
  {
   "cell_type": "code",
   "execution_count": 8,
   "id": "998d7c8e",
   "metadata": {},
   "outputs": [
    {
     "name": "stdout",
     "output_type": "stream",
     "text": [
      "               team       opponent  goals  home\n",
      "0    Crystal Palace        Arsenal      0     1\n",
      "1            Fulham      Liverpool      2     1\n",
      "2       Bournemouth    Aston Villa      2     1\n",
      "3             Leeds         Wolves      2     1\n",
      "4         Newcastle  Nott'm Forest      2     1\n",
      "..              ...            ...    ...   ...\n",
      "214       Tottenham      Leicester      1     0\n",
      "215          Wolves    Southampton      2     0\n",
      "216       Newcastle    Bournemouth      1     0\n",
      "217      Man United          Leeds      2     0\n",
      "218     Aston Villa       Man City      1     0\n",
      "\n",
      "[438 rows x 4 columns]\n"
     ]
    }
   ],
   "source": [
    "home = epl.iloc[:,0:3].assign(home=1).rename(columns={'HomeTeam':'team', 'AwayTeam':'opponent', 'HomeGoals':'goals'})\n",
    "away = epl.iloc[:, [1, 0, 3]].assign(home=0).rename(columns={'AwayTeam': 'team', 'HomeTeam': 'opponent', 'AwayGoals': 'goals'})\n",
    "df = pd.concat([home, away])\n",
    "print(df)"
   ]
  },
  {
   "cell_type": "code",
   "execution_count": 9,
   "id": "47b8a2a7",
   "metadata": {},
   "outputs": [
    {
     "name": "stdout",
     "output_type": "stream",
     "text": [
      "                 Generalized Linear Model Regression Results                  \n",
      "==============================================================================\n",
      "Dep. Variable:                  goals   No. Observations:                  438\n",
      "Model:                            GLM   Df Residuals:                      398\n",
      "Model Family:                 Poisson   Df Model:                           39\n",
      "Link Function:                    Log   Scale:                          1.0000\n",
      "Method:                          IRLS   Log-Likelihood:                -611.15\n",
      "Date:                Thu, 02 Mar 2023   Deviance:                       454.99\n",
      "Time:                        02:32:30   Pearson chi2:                     380.\n",
      "No. Iterations:                     5   Pseudo R-squ. (CS):             0.2575\n",
      "Covariance Type:            nonrobust                                         \n",
      "==============================================================================================\n",
      "                                 coef    std err          z      P>|z|      [0.025      0.975]\n",
      "----------------------------------------------------------------------------------------------\n",
      "Intercept                      0.1614      0.286      0.563      0.573      -0.400       0.723\n",
      "team[T.Aston Villa]           -0.6248      0.247     -2.528      0.011      -1.109      -0.140\n",
      "team[T.Bournemouth]           -0.8417      0.269     -3.131      0.002      -1.368      -0.315\n",
      "team[T.Brentford]             -0.3043      0.225     -1.354      0.176      -0.745       0.136\n",
      "team[T.Brighton]              -0.1660      0.219     -0.758      0.448      -0.595       0.263\n",
      "team[T.Chelsea]               -0.7243      0.257     -2.822      0.005      -1.227      -0.221\n",
      "team[T.Crystal Palace]        -0.8422      0.269     -3.134      0.002      -1.369      -0.315\n",
      "team[T.Everton]               -1.0704      0.291     -3.673      0.000      -1.642      -0.499\n",
      "team[T.Fulham]                -0.3763      0.227     -1.656      0.098      -0.822       0.069\n",
      "team[T.Leeds]                 -0.5162      0.241     -2.145      0.032      -0.988      -0.045\n",
      "team[T.Leicester]             -0.2803      0.224     -1.253      0.210      -0.719       0.158\n",
      "team[T.Liverpool]             -0.2485      0.228     -1.091      0.275      -0.695       0.198\n",
      "team[T.Man City]               0.1058      0.200      0.529      0.597      -0.286       0.497\n",
      "team[T.Man United]            -0.2574      0.222     -1.161      0.246      -0.692       0.177\n",
      "team[T.Newcastle]             -0.3548      0.226     -1.571      0.116      -0.797       0.088\n",
      "team[T.Nott'm Forest]         -1.0647      0.285     -3.736      0.000      -1.623      -0.506\n",
      "team[T.Southampton]           -0.9564      0.279     -3.424      0.001      -1.504      -0.409\n",
      "team[T.Tottenham]             -0.1527      0.216     -0.708      0.479      -0.576       0.270\n",
      "team[T.West Ham]              -0.9210      0.274     -3.360      0.001      -1.458      -0.384\n",
      "team[T.Wolves]                -1.0295      0.285     -3.609      0.000      -1.589      -0.470\n",
      "opponent[T.Aston Villa]        0.5272      0.293      1.796      0.072      -0.048       1.102\n",
      "opponent[T.Bournemouth]        0.7954      0.281      2.829      0.005       0.244       1.346\n",
      "opponent[T.Brentford]          0.3935      0.303      1.301      0.193      -0.199       0.986\n",
      "opponent[T.Brighton]           0.4011      0.304      1.320      0.187      -0.194       0.997\n",
      "opponent[T.Chelsea]            0.1380      0.319      0.432      0.665      -0.488       0.764\n",
      "opponent[T.Crystal Palace]     0.4340      0.300      1.449      0.147      -0.153       1.021\n",
      "opponent[T.Everton]            0.4249      0.303      1.400      0.161      -0.170       1.020\n",
      "opponent[T.Fulham]             0.4018      0.300      1.341      0.180      -0.185       0.989\n",
      "opponent[T.Leeds]              0.6506      0.287      2.267      0.023       0.088       1.213\n",
      "opponent[T.Leicester]          0.6784      0.287      2.360      0.018       0.115       1.242\n",
      "opponent[T.Liverpool]          0.4480      0.303      1.477      0.140      -0.146       1.042\n",
      "opponent[T.Man City]           0.1907      0.318      0.599      0.549      -0.433       0.815\n",
      "opponent[T.Man United]         0.2861      0.305      0.939      0.348      -0.311       0.883\n",
      "opponent[T.Newcastle]         -0.3895      0.365     -1.067      0.286      -1.105       0.326\n",
      "opponent[T.Nott'm Forest]      0.6135      0.289      2.122      0.034       0.047       1.180\n",
      "opponent[T.Southampton]        0.7409      0.285      2.597      0.009       0.182       1.300\n",
      "opponent[T.Tottenham]          0.4784      0.293      1.634      0.102      -0.096       1.052\n",
      "opponent[T.West Ham]           0.3701      0.306      1.211      0.226      -0.229       0.969\n",
      "opponent[T.Wolves]             0.4618      0.298      1.549      0.121      -0.123       1.046\n",
      "home                           0.3372      0.083      4.057      0.000       0.174       0.500\n",
      "==============================================================================================\n"
     ]
    }
   ],
   "source": [
    "import statsmodels.api as sm\n",
    "import statsmodels.formula.api as smf\n",
    "formula = 'goals ~ team + opponent + home'\n",
    "model = smf.glm(formula=formula, data=df, family=sm.families.Poisson()).fit()\n",
    "print(model.summary())"
   ]
  },
  {
   "cell_type": "code",
   "execution_count": 10,
   "id": "41d3d7f4",
   "metadata": {},
   "outputs": [],
   "source": [
    "def predict_match(model, homeTeam, awayTeam, max_goals=10):\n",
    "    home_goals = model.predict(pd.DataFrame(data={'team': homeTeam,\n",
    "                                                  'opponent':awayTeam,\n",
    "                                                  'home': 1},\n",
    "                                            index=[1])).values[0]\n",
    "    away_goals = model.predict(pd.DataFrame(data={'team': awayTeam,\n",
    "                                                  'opponent': homeTeam,\n",
    "                                                  'home':0},\n",
    "                                            index=[1])).values[0]\n",
    "    pred = [[poisson.pmf(i, team_avg) for i in range(0, max_goals+1)] for team_avg in [home_goals, away_goals]]\n",
    "    return(np.outer(np.array(pred[0]), np.array(pred[1])))"
   ]
  },
  {
   "cell_type": "code",
   "execution_count": 11,
   "id": "52cc33e4",
   "metadata": {},
   "outputs": [
    {
     "name": "stdout",
     "output_type": "stream",
     "text": [
      "1    1.992139\n",
      "dtype: float64\n"
     ]
    }
   ],
   "source": [
    "print(model.predict(pd.DataFrame(data={'team': 'Arsenal', 'opponent': 'Man City', 'home':1}, index=[1])))"
   ]
  },
  {
   "cell_type": "code",
   "execution_count": 12,
   "id": "e511abb3",
   "metadata": {},
   "outputs": [
    {
     "name": "stdout",
     "output_type": "stream",
     "text": [
      "1    1.306237\n",
      "dtype: float64\n"
     ]
    }
   ],
   "source": [
    "print(model.predict(pd.DataFrame(data={'team': 'Man City', 'opponent': 'Arsenal', 'home':0}, index=[1])))"
   ]
  },
  {
   "cell_type": "code",
   "execution_count": 13,
   "id": "0956975c",
   "metadata": {},
   "outputs": [],
   "source": [
    "ars_man = predict_match(model, 'Arsenal', 'Man City', max_goals=3)"
   ]
  },
  {
   "cell_type": "code",
   "execution_count": 15,
   "id": "148bd55f",
   "metadata": {},
   "outputs": [
    {
     "data": {
      "text/plain": [
       "21.36989057716443"
      ]
     },
     "execution_count": 15,
     "metadata": {},
     "output_type": "execute_result"
    }
   ],
   "source": [
    "np.sum(np.tril(ars_man, -1)) * 100\n",
    "# 40.23456259724963\n",
    "# victory for Man City\n",
    "np.sum(np.triu(ars_man, 1)) * 100\n",
    "# 20.34309498981432\n",
    "# a draw\n",
    "np.sum(np.diag(ars_man)) * 100"
   ]
  },
  {
   "cell_type": "code",
   "execution_count": null,
   "id": "ac66d8b7",
   "metadata": {},
   "outputs": [],
   "source": []
  }
 ],
 "metadata": {
  "kernelspec": {
   "display_name": "Python 3 (ipykernel)",
   "language": "python",
   "name": "python3"
  },
  "language_info": {
   "codemirror_mode": {
    "name": "ipython",
    "version": 3
   },
   "file_extension": ".py",
   "mimetype": "text/x-python",
   "name": "python",
   "nbconvert_exporter": "python",
   "pygments_lexer": "ipython3",
   "version": "3.9.12"
  }
 },
 "nbformat": 4,
 "nbformat_minor": 5
}
